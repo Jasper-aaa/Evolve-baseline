{
 "cells": [
  {
   "cell_type": "code",
   "execution_count": 1,
   "metadata": {},
   "outputs": [
    {
     "name": "stdout",
     "output_type": "stream",
     "text": [
      "[info] using task orders [0, 1, 2, 3, 4, 5, 6, 7, 8, 9]\n"
     ]
    }
   ],
   "source": [
    "from libero.libero import benchmark, get_libero_path\n",
    "bench_90 = benchmark.get_benchmark_dict()[\"libero_90\"]()\n",
    "bench_10 = benchmark.get_benchmark_dict()[\"libero_10\"]()\n",
    "task_90 = bench_90.get_task_names()\n",
    "task_10 = bench_10.get_task_names()"
   ]
  },
  {
   "cell_type": "code",
   "execution_count": 2,
   "metadata": {},
   "outputs": [
    {
     "name": "stdout",
     "output_type": "stream",
     "text": [
      "LIVING_ROOM_SCENE2_put_both_the_alphabet_soup_and_the_tomato_sauce_in_the_basket\n",
      "LIVING_ROOM_SCENE2_put_both_the_cream_cheese_box_and_the_butter_in_the_basket\n",
      "KITCHEN_SCENE3_turn_on_the_stove_and_put_the_moka_pot_on_it\n",
      "KITCHEN_SCENE4_put_the_black_bowl_in_the_bottom_drawer_of_the_cabinet_and_close_it\n",
      "LIVING_ROOM_SCENE5_put_the_white_mug_on_the_left_plate_and_put_the_yellow_and_white_mug_on_the_right_plate\n",
      "STUDY_SCENE1_pick_up_the_book_and_place_it_in_the_back_compartment_of_the_caddy\n",
      "LIVING_ROOM_SCENE6_put_the_white_mug_on_the_plate_and_put_the_chocolate_pudding_to_the_right_of_the_plate\n",
      "LIVING_ROOM_SCENE1_put_both_the_alphabet_soup_and_the_cream_cheese_box_in_the_basket\n",
      "KITCHEN_SCENE8_put_both_moka_pots_on_the_stove\n",
      "KITCHEN_SCENE6_put_the_yellow_and_white_mug_in_the_microwave_and_close_it\n"
     ]
    }
   ],
   "source": [
    "for i in task_10:\n",
    "    print(i)"
   ]
  },
  {
   "cell_type": "code",
   "execution_count": 3,
   "metadata": {},
   "outputs": [],
   "source": [
    "def get_intersection(target,t_90):\n",
    "    for i in t_90:\n",
    "        if target in i:\n",
    "            print(i)"
   ]
  },
  {
   "cell_type": "code",
   "execution_count": 8,
   "metadata": {},
   "outputs": [
    {
     "name": "stdout",
     "output_type": "stream",
     "text": [
      "KITCHEN_SCENE10_close_the_top_drawer_of_the_cabinet_and_put_the_black_bowl_on_top_of_it\n",
      "KITCHEN_SCENE10_put_the_black_bowl_in_the_top_drawer_of_the_cabinet\n",
      "KITCHEN_SCENE1_put_the_black_bowl_on_the_plate\n",
      "KITCHEN_SCENE1_put_the_black_bowl_on_top_of_the_cabinet\n",
      "KITCHEN_SCENE2_put_the_black_bowl_at_the_back_on_the_plate\n",
      "KITCHEN_SCENE2_put_the_black_bowl_at_the_front_on_the_plate\n",
      "KITCHEN_SCENE2_put_the_middle_black_bowl_on_the_plate\n",
      "KITCHEN_SCENE2_put_the_middle_black_bowl_on_top_of_the_cabinet\n",
      "KITCHEN_SCENE2_stack_the_black_bowl_at_the_front_on_the_black_bowl_in_the_middle\n",
      "KITCHEN_SCENE2_stack_the_middle_black_bowl_on_the_back_black_bowl\n",
      "KITCHEN_SCENE4_put_the_black_bowl_in_the_bottom_drawer_of_the_cabinet\n",
      "KITCHEN_SCENE4_put_the_black_bowl_on_top_of_the_cabinet\n",
      "KITCHEN_SCENE5_put_the_black_bowl_in_the_top_drawer_of_the_cabinet\n",
      "KITCHEN_SCENE5_put_the_black_bowl_on_the_plate\n",
      "KITCHEN_SCENE5_put_the_black_bowl_on_top_of_the_cabinet\n",
      "LIVING_ROOM_SCENE4_pick_up_the_black_bowl_on_the_left_and_put_it_in_the_tray\n"
     ]
    }
   ],
   "source": [
    "get_intersection(\"black_bowl\",task_90)"
   ]
  }
 ],
 "metadata": {
  "kernelspec": {
   "display_name": "quest",
   "language": "python",
   "name": "python3"
  },
  "language_info": {
   "codemirror_mode": {
    "name": "ipython",
    "version": 3
   },
   "file_extension": ".py",
   "mimetype": "text/x-python",
   "name": "python",
   "nbconvert_exporter": "python",
   "pygments_lexer": "ipython3",
   "version": "3.10.14"
  }
 },
 "nbformat": 4,
 "nbformat_minor": 2
}
